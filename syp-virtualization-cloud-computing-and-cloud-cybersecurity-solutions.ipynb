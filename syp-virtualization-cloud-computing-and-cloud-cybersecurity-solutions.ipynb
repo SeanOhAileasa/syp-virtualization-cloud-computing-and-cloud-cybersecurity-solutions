{
 "cells": [
  {
   "cell_type": "markdown",
   "id": "d4ee9e4b",
   "metadata": {},
   "source": [
    "***\n",
    "< [Home](https://github.com/SeanOhAileasa) | [README](https://github.com/SeanOhAileasa/syp-virtualization-cloud-computing-and-cloud-cybersecurity-solutions/blob/main/README.md) >\n",
    "\n",
    "## CompTIA Security+ - Course Material 2022\n",
    "###### Topic: ``Virtualization, Cloud Computing and Cloud Cybersecurity Solutions``\n",
    "***"
   ]
  },
  {
   "cell_type": "markdown",
   "id": "b82b07fb",
   "metadata": {},
   "source": [
    "Course material for the ``CompTIA Security+`` module of the ``ICT Associate Apprenticeship (Cybersecurity)`` programme."
   ]
  },
  {
   "cell_type": "markdown",
   "id": "e7228f57",
   "metadata": {},
   "source": [
    "<a id=\"top\"></a>\n",
    "***\n",
    "## Table of Contents\n",
    "***"
   ]
  },
  {
   "cell_type": "markdown",
   "id": "c2bb5e7b",
   "metadata": {},
   "source": [
    "### [Virtualization, Cloud Computing and Cloud Cybersecurity Solutions](#VirtualizationCloudComputingandCloudCybersecuritySolutions) <br/><br/>\n",
    "<hr width=50%;>"
   ]
  },
  {
   "cell_type": "markdown",
   "id": "cbbc1790",
   "metadata": {},
   "source": [
    "### [Virtualization Basics and VM Security](#VirtualizationBasicsandVMSecurity) <br/><br/>\n",
    "<hr width=50%;>"
   ]
  },
  {
   "cell_type": "markdown",
   "id": "dabf9976",
   "metadata": {},
   "source": [
    "### [Cloud Models](#CloudModels) <br/><br/>\n",
    "<hr width=50%;>"
   ]
  },
  {
   "cell_type": "markdown",
   "id": "44ff8e64",
   "metadata": {},
   "source": [
    "### [Cloud Service Provider Concepts](#CloudServiceProviderConcepts) <br/><br/>\n",
    "<hr width=50%;>"
   ]
  },
  {
   "cell_type": "markdown",
   "id": "fd8fb99c",
   "metadata": {},
   "source": [
    "### [Infrastructure as Code](#InfrastructureasCode) <br/><br/>\n",
    "<hr width=50%;>"
   ]
  },
  {
   "cell_type": "markdown",
   "id": "95a44859",
   "metadata": {},
   "source": [
    "### [Containerization](#Containerization) <br/><br/>\n",
    "<hr width=50%;>"
   ]
  },
  {
   "cell_type": "markdown",
   "id": "2ef94062",
   "metadata": {},
   "source": [
    "### [Serverless Architectures](#ServerlessArchitectures) <br/><br/>\n",
    "<hr width=50%;>"
   ]
  },
  {
   "cell_type": "markdown",
   "id": "246ed434",
   "metadata": {},
   "source": [
    "### [Transit Gateways](#TransitGateways) <br/><br/>\n",
    "<hr width=50%;>"
   ]
  },
  {
   "cell_type": "markdown",
   "id": "7068af36",
   "metadata": {},
   "source": [
    "### [Cloud Storage Security](#CloudStorageSecurity) <br/><br/>\n",
    "<hr width=50%;>"
   ]
  },
  {
   "cell_type": "markdown",
   "id": "c414c849",
   "metadata": {},
   "source": [
    "### [Cloud Network Security](#CloudNetworkSecurity) <br/><br/>\n",
    "<hr width=50%;>"
   ]
  },
  {
   "cell_type": "markdown",
   "id": "9fc76783",
   "metadata": {},
   "source": [
    "### [Cloud Compute Security](#CloudComputeSecurity) <br/><br/>\n",
    "<hr width=50%;>"
   ]
  },
  {
   "cell_type": "markdown",
   "id": "f04cd7dc",
   "metadata": {},
   "source": [
    "### [Cloud Security Solutions](#CloudSecuritySolutions) <br/><br/>\n",
    "<hr width=50%;>"
   ]
  },
  {
   "cell_type": "markdown",
   "id": "2f81d226",
   "metadata": {},
   "source": [
    "### [Course Summary](#CourseSummary) <br/><br/>\n",
    "<hr width=50%;>"
   ]
  },
  {
   "cell_type": "markdown",
   "id": "bf2b95e2",
   "metadata": {},
   "source": [
    "***\n",
    "## END"
   ]
  },
  {
   "cell_type": "markdown",
   "id": "34aa6eb5",
   "metadata": {},
   "source": [
    "< [Table of Contents](#top) | [References](#references) >\n",
    "<a id=\"VirtualizationCloudComputingandCloudCybersecuritySolutions\"></a>\n",
    "***\n",
    "### Virtualization, Cloud Computing and Cloud Cybersecurity Solutions\n",
    "***"
   ]
  },
  {
   "cell_type": "markdown",
   "id": "173e78b5",
   "metadata": {},
   "source": [
    "In this course, you'll explore the basics of virtualization which is the foundation of modern data center cloud computing architecture. You will also learn about VM security, cloud computing types and models such as IaaS and hybrid clouds. You'll learn about managed security service providers (MSSPs), containerization fundamentals, serverless computing, and Infrastructure as Code. You'll also learn about cloud storage, network, and compute security solutions. This course can be used in preparation for the CompTIA Security+ SY0-601 certification exam."
   ]
  },
  {
   "cell_type": "markdown",
   "id": "fb6f1ef3",
   "metadata": {},
   "source": [
    "Objectives\n",
    "\n",
    "- discover the key concepts covered in this course <br/><br/>\n",
    "- describe virtualization and VM security issues like VM sprawl avoidance and VM escape protection <br/><br/>\n",
    "- compare cloud models and service types such as public, private, hybrid, Infrastructure as a Service, Platform as a Service, and Software as a Service <br/><br/>\n",
    "- define cloud service provider concepts such as fog computing, edge computing, containers, and microservices <br/><br/>\n",
    "- describe Infrastructure as Code and automation using JSON and YAML to create a single source of truth <br/><br/>\n",
    "- describe containerization and different CSP-managed Docker and Kubernetes services <br/><br/>\n",
    "- define serverless computing and Functions as a Service for a variety of use cases <br/><br/>\n",
    "- define the cloud provider's transit gateways that use cloud computing to replace traditional VPN concentrators and legacy transit virtual networks <br/><br/>\n",
    "- describe cloud security of block and object storage services at the cloud service provider <br/><br/>\n",
    "- describe cloud security of virtual networks or virtual private clouds including public and private subnets and other segmentation methods <br/><br/>\n",
    "- describe cloud compute security including security groups, dynamic resource allocation, instance awareness, secure endpoints, and container security <br/><br/>\n",
    "- compare and contrast cloud security solutions such as CASB application security and next-generation secure web gateways <br/><br/>\n",
    "- summarize the key concepts covered in this course <br/><br/>"
   ]
  },
  {
   "cell_type": "markdown",
   "id": "84b00380",
   "metadata": {},
   "source": [
    "< [Table of Contents](#top) | [References](#references) >\n",
    "<a id=\"VirtualizationBasicsandVMSecurity\"></a>\n",
    "***\n",
    "### Virtualization Basics and VM Security\n",
    "***"
   ]
  },
  {
   "cell_type": "markdown",
   "id": "d82d85d7",
   "metadata": {},
   "source": []
  },
  {
   "cell_type": "markdown",
   "id": "b4da2efe",
   "metadata": {},
   "source": [
    "< [Table of Contents](#top) | [References](#references) >\n",
    "<a id=\"CloudModels\"></a>\n",
    "***\n",
    "### Cloud Models\n",
    "***"
   ]
  },
  {
   "cell_type": "markdown",
   "id": "70f6e846",
   "metadata": {},
   "source": []
  },
  {
   "cell_type": "markdown",
   "id": "7b10c3a2",
   "metadata": {},
   "source": [
    "< [Table of Contents](#top) | [References](#references) >\n",
    "<a id=\"CloudServiceProviderConcepts\"></a>\n",
    "***\n",
    "### Cloud Service Provider Concepts\n",
    "***"
   ]
  },
  {
   "cell_type": "markdown",
   "id": "2cc18496",
   "metadata": {},
   "source": []
  },
  {
   "cell_type": "markdown",
   "id": "1ce9ff85",
   "metadata": {},
   "source": [
    "< [Table of Contents](#top) | [References](#references) >\n",
    "<a id=\"InfrastructureasCode\"></a>\n",
    "***\n",
    "### Infrastructure as Code\n",
    "***"
   ]
  },
  {
   "cell_type": "markdown",
   "id": "8bb9c616",
   "metadata": {},
   "source": []
  },
  {
   "cell_type": "markdown",
   "id": "d87809fd",
   "metadata": {},
   "source": [
    "< [Table of Contents](#top) | [References](#references) >\n",
    "<a id=\"Containerization\"></a>\n",
    "***\n",
    "### Containerization\n",
    "***"
   ]
  },
  {
   "cell_type": "markdown",
   "id": "f0a909b6",
   "metadata": {},
   "source": []
  },
  {
   "cell_type": "markdown",
   "id": "c781a700",
   "metadata": {},
   "source": [
    "< [Table of Contents](#top) | [References](#references) >\n",
    "<a id=\"ServerlessArchitectures\"></a>\n",
    "***\n",
    "### Serverless Architectures\n",
    "***"
   ]
  },
  {
   "cell_type": "markdown",
   "id": "cd41c08d",
   "metadata": {},
   "source": []
  },
  {
   "cell_type": "markdown",
   "id": "1256d7bf",
   "metadata": {},
   "source": [
    "< [Table of Contents](#top) | [References](#references) >\n",
    "<a id=\"TransitGateways\"></a>\n",
    "***\n",
    "### Transit Gateways\n",
    "***"
   ]
  },
  {
   "cell_type": "markdown",
   "id": "3ab13be8",
   "metadata": {},
   "source": []
  },
  {
   "cell_type": "markdown",
   "id": "47707114",
   "metadata": {},
   "source": [
    "< [Table of Contents](#top) | [References](#references) >\n",
    "<a id=\"CloudStorageSecurity\"></a>\n",
    "***\n",
    "### Cloud Storage Security\n",
    "***"
   ]
  },
  {
   "cell_type": "markdown",
   "id": "5c5eb4ce",
   "metadata": {},
   "source": []
  },
  {
   "cell_type": "markdown",
   "id": "9adeceaf",
   "metadata": {},
   "source": [
    "< [Table of Contents](#top) | [References](#references) >\n",
    "<a id=\"CloudNetworkSecurity\"></a>\n",
    "***\n",
    "### Cloud Network Security\n",
    "***"
   ]
  },
  {
   "cell_type": "markdown",
   "id": "45d2f914",
   "metadata": {},
   "source": []
  },
  {
   "cell_type": "markdown",
   "id": "fd680b58",
   "metadata": {},
   "source": [
    "< [Table of Contents](#top) | [References](#references) >\n",
    "<a id=\"CloudComputeSecurity\"></a>\n",
    "***\n",
    "### Cloud Compute Security\n",
    "***"
   ]
  },
  {
   "cell_type": "markdown",
   "id": "86a67316",
   "metadata": {},
   "source": []
  },
  {
   "cell_type": "markdown",
   "id": "d438e44b",
   "metadata": {},
   "source": [
    "< [Table of Contents](#top) | [References](#references) >\n",
    "<a id=\"CloudSecuritySolutions\"></a>\n",
    "***\n",
    "### Cloud Security Solutions\n",
    "***"
   ]
  },
  {
   "cell_type": "markdown",
   "id": "6779b825",
   "metadata": {},
   "source": []
  },
  {
   "cell_type": "markdown",
   "id": "bd89bb21",
   "metadata": {},
   "source": [
    "< [Table of Contents](#top) | [References](#references) >\n",
    "<a id=\"CourseSummary\"></a>\n",
    "***\n",
    "### Course Summary\n",
    "***"
   ]
  },
  {
   "cell_type": "markdown",
   "id": "c9f42d31",
   "metadata": {},
   "source": []
  },
  {
   "cell_type": "markdown",
   "id": "2cc20932",
   "metadata": {},
   "source": [
    "***\n",
    "## END"
   ]
  },
  {
   "cell_type": "markdown",
   "id": "e0e42d51",
   "metadata": {},
   "source": [
    "< [Table of Contents](#top) >\n",
    "<a id=\"references\"></a>\n",
    "***\n",
    "## References\n",
    "***"
   ]
  },
  {
   "cell_type": "markdown",
   "id": "757bf6de",
   "metadata": {},
   "source": [
    "&nbsp;&nbsp;&nbsp;&nbsp;&nbsp;&nbsp;&nbsp;&nbsp;&nbsp;eCollege, \"Virtualization, Cloud Computing and Cloud Cybersecurity Solutions,\" [ecollege.ie](https://web.archive.org/web/20220328112908/https://www.ecollege.ie/courses/comptia-security/), n.d.."
   ]
  },
  {
   "cell_type": "markdown",
   "id": "b33c372a",
   "metadata": {},
   "source": [
    "***\n",
    "## END"
   ]
  },
  {
   "cell_type": "markdown",
   "id": "e5961b4d",
   "metadata": {},
   "source": [
    "< [Table of Contents](#top) | [References](#references) >\n",
    "<a id=\"appendix\"></a>\n",
    "***\n",
    "## Appendix\n",
    "***"
   ]
  },
  {
   "cell_type": "markdown",
   "id": "00d82a82",
   "metadata": {},
   "source": [
    "***\n",
    "## END"
   ]
  },
  {
   "cell_type": "code",
   "execution_count": 1,
   "id": "706756a2",
   "metadata": {},
   "outputs": [
    {
     "data": {
      "text/html": [
       "<style>.container { width:100% !important; }</style>"
      ],
      "text/plain": [
       "<IPython.core.display.HTML object>"
      ]
     },
     "metadata": {},
     "output_type": "display_data"
    }
   ],
   "source": [
    "from IPython.core.display import display,HTML\n",
    "display(HTML(\"<style>.container { width:100% !important; }</style>\"))"
   ]
  },
  {
   "cell_type": "markdown",
   "id": "899c1783",
   "metadata": {},
   "source": [
    "# END JUPYTER NOTEBOOK"
   ]
  }
 ],
 "metadata": {
  "kernelspec": {
   "display_name": "Python 3",
   "language": "python",
   "name": "python3"
  },
  "language_info": {
   "codemirror_mode": {
    "name": "ipython",
    "version": 3
   },
   "file_extension": ".py",
   "mimetype": "text/x-python",
   "name": "python",
   "nbconvert_exporter": "python",
   "pygments_lexer": "ipython3",
   "version": "3.8.8"
  }
 },
 "nbformat": 4,
 "nbformat_minor": 5
}
